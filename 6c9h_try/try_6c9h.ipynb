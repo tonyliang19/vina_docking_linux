{
 "cells": [
  {
   "cell_type": "code",
   "execution_count": null,
   "id": "115386b4-0e20-4802-a2f8-c27e4b6696c3",
   "metadata": {},
   "outputs": [],
   "source": [
    "# My first example with AutoDock Vina in python\n",
    "#\n",
    "\n",
    "from vina import Vina\n",
    "\n",
    "\n",
    "v = Vina(sf_name='vina')\n",
    "\n",
    "v.set_receptor('b_receptor.pdbqt')\n",
    "\n",
    "v.set_ligand_from_file('amp_ideal_ligand.pdbqt')\n",
    "v.compute_vina_maps(center=[15.190, 53.903, 16.917], box_size=[20, 20, 20]) # (from example default)\n",
    "\n",
    "# Score the current pose (from example default)\n",
    "energy = v.score()\n",
    "print('Score before minimization: %.3f (kcal/mol)' % energy[0])\n",
    "\n",
    "# Minimized locally the current pose\n",
    "energy_minimized = v.optimize()\n",
    "print('Score after minimization : %.3f (kcal/mol)' % energy_minimized[0])\n",
    "v.write_pose('6c9h_minimized.pdbqt', overwrite=True)\n",
    "\n",
    "# Dock the ligand\n",
    "v.dock(exhaustiveness=32, n_poses=20) #(from example default)\n",
    "v.write_poses('6c9h_vina_out.pdbqt', n_poses=5, overwrite=True)"
   ]
  }
 ],
 "metadata": {
  "kernelspec": {
   "display_name": "Python [conda env:vina]",
   "language": "python",
   "name": "conda-env-vina-py"
  },
  "language_info": {
   "codemirror_mode": {
    "name": "ipython",
    "version": 3
   },
   "file_extension": ".py",
   "mimetype": "text/x-python",
   "name": "python",
   "nbconvert_exporter": "python",
   "pygments_lexer": "ipython3",
   "version": "3.9.7"
  }
 },
 "nbformat": 4,
 "nbformat_minor": 5
}
