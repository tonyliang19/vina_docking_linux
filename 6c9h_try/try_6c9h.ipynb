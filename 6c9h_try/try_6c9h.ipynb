{
 "cells": [
  {
   "cell_type": "code",
   "execution_count": 1,
   "id": "115386b4-0e20-4802-a2f8-c27e4b6696c3",
   "metadata": {},
   "outputs": [
    {
     "ename": "TypeError",
     "evalue": "Error: Vina requires a PDBQT file for the (rigid) receptor.",
     "output_type": "error",
     "traceback": [
      "\u001b[0;31m---------------------------------------------------------------------------\u001b[0m",
      "\u001b[0;31mTypeError\u001b[0m                                 Traceback (most recent call last)",
      "Cell \u001b[0;32mIn[1], line 9\u001b[0m\n\u001b[1;32m      4\u001b[0m \u001b[38;5;28;01mfrom\u001b[39;00m \u001b[38;5;21;01mvina\u001b[39;00m \u001b[38;5;28;01mimport\u001b[39;00m Vina\n\u001b[1;32m      7\u001b[0m v \u001b[38;5;241m=\u001b[39m Vina(sf_name\u001b[38;5;241m=\u001b[39m\u001b[38;5;124m'\u001b[39m\u001b[38;5;124mvina\u001b[39m\u001b[38;5;124m'\u001b[39m)\n\u001b[0;32m----> 9\u001b[0m \u001b[43mv\u001b[49m\u001b[38;5;241;43m.\u001b[39;49m\u001b[43mset_receptor\u001b[49m\u001b[43m(\u001b[49m\u001b[38;5;124;43m'\u001b[39;49m\u001b[38;5;124;43m6C9H_C.pdb\u001b[39;49m\u001b[38;5;124;43m'\u001b[39;49m\u001b[43m)\u001b[49m\n\u001b[1;32m     11\u001b[0m v\u001b[38;5;241m.\u001b[39mset_ligand_from_file(\u001b[38;5;124m'\u001b[39m\u001b[38;5;124m6C9H_B.pdb\u001b[39m\u001b[38;5;124m'\u001b[39m)\n\u001b[1;32m     12\u001b[0m v\u001b[38;5;241m.\u001b[39mcompute_vina_maps(center\u001b[38;5;241m=\u001b[39m[\u001b[38;5;241m15.190\u001b[39m, \u001b[38;5;241m53.903\u001b[39m, \u001b[38;5;241m16.917\u001b[39m], box_size\u001b[38;5;241m=\u001b[39m[\u001b[38;5;241m20\u001b[39m, \u001b[38;5;241m20\u001b[39m, \u001b[38;5;241m20\u001b[39m])\n",
      "File \u001b[0;32m~/miniconda/envs/vina/lib/python3.9/site-packages/vina/vina.py:143\u001b[0m, in \u001b[0;36mVina.set_receptor\u001b[0;34m(self, rigid_pdbqt_filename, flex_pdbqt_filename)\u001b[0m\n\u001b[1;32m    141\u001b[0m     _, extension \u001b[38;5;241m=\u001b[39m os\u001b[38;5;241m.\u001b[39mpath\u001b[38;5;241m.\u001b[39msplitext(rigid_pdbqt_filename)\n\u001b[1;32m    142\u001b[0m     \u001b[38;5;28;01mif\u001b[39;00m \u001b[38;5;129;01mnot\u001b[39;00m extension \u001b[38;5;241m==\u001b[39m \u001b[38;5;124m'\u001b[39m\u001b[38;5;124m.pdbqt\u001b[39m\u001b[38;5;124m'\u001b[39m:\n\u001b[0;32m--> 143\u001b[0m         \u001b[38;5;28;01mraise\u001b[39;00m \u001b[38;5;167;01mTypeError\u001b[39;00m(\u001b[38;5;124m'\u001b[39m\u001b[38;5;124mError: Vina requires a PDBQT file for the (rigid) receptor.\u001b[39m\u001b[38;5;124m'\u001b[39m)\n\u001b[1;32m    145\u001b[0m \u001b[38;5;66;03m# For the flex part of the receptor\u001b[39;00m\n\u001b[1;32m    146\u001b[0m \u001b[38;5;28;01mif\u001b[39;00m flex_pdbqt_filename \u001b[38;5;129;01mis\u001b[39;00m \u001b[38;5;129;01mnot\u001b[39;00m \u001b[38;5;28;01mNone\u001b[39;00m:\n",
      "\u001b[0;31mTypeError\u001b[0m: Error: Vina requires a PDBQT file for the (rigid) receptor."
     ]
    }
   ],
   "source": [
    "# My first example with AutoDock Vina in python\n",
    "#\n",
    "\n",
    "from vina import Vina\n",
    "\n",
    "\n",
    "v = Vina(sf_name='vina')\n",
    "\n",
    "v.set_receptor('6C9H_C.pdb')\n",
    "\n",
    "v.set_ligand_from_file('6C9H_B.pdb')\n",
    "v.compute_vina_maps(center=[15.190, 53.903, 16.917], box_size=[20, 20, 20])\n",
    "\n",
    "# Score the current pose\n",
    "energy = v.score()\n",
    "print('Score before minimization: %.3f (kcal/mol)' % energy[0])\n",
    "\n",
    "# Minimized locally the current pose\n",
    "energy_minimized = v.optimize()\n",
    "print('Score after minimization : %.3f (kcal/mol)' % energy_minimized[0])\n",
    "v.write_pose('6c9h_minimized.pdbqt', overwrite=True)\n",
    "\n",
    "# Dock the ligand\n",
    "v.dock(exhaustiveness=32, n_poses=20)\n",
    "v.write_poses('6c9h_vina_out.pdbqt', n_poses=5, overwrite=True)"
   ]
  }
 ],
 "metadata": {
  "kernelspec": {
   "display_name": "Python [conda env:vina]",
   "language": "python",
   "name": "conda-env-vina-py"
  },
  "language_info": {
   "codemirror_mode": {
    "name": "ipython",
    "version": 3
   },
   "file_extension": ".py",
   "mimetype": "text/x-python",
   "name": "python",
   "nbconvert_exporter": "python",
   "pygments_lexer": "ipython3",
   "version": "3.9.7"
  }
 },
 "nbformat": 4,
 "nbformat_minor": 5
}
